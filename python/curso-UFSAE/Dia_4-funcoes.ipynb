{
  "nbformat": 4,
  "nbformat_minor": 0,
  "metadata": {
    "colab": {
      "provenance": [],
      "authorship_tag": "ABX9TyMmMHgzC58lXlYsfCfKrk/U",
      "include_colab_link": true
    },
    "kernelspec": {
      "name": "python3",
      "display_name": "Python 3"
    },
    "language_info": {
      "name": "python"
    }
  },
  "cells": [
    {
      "cell_type": "markdown",
      "metadata": {
        "id": "view-in-github",
        "colab_type": "text"
      },
      "source": [
        "<a href=\"https://colab.research.google.com/github/markkyn/Introducao-a-Programacao/blob/main/python/curso-UFSAE/Dia_4-funcoes.ipynb\" target=\"_parent\"><img src=\"https://colab.research.google.com/assets/colab-badge.svg\" alt=\"Open In Colab\"/></a>"
      ]
    },
    {
      "cell_type": "markdown",
      "source": [
        "# Funções em Python\n",
        "\n",
        "As funções em Python são blocos de ***código reutilizáveis*** que realizam tarefas específicas. Elas ajudam a organizar e modularizar o código, facilitando a sua manutenção e reutilização. As funções podem receber ***argumentos como entrada***, executar um conjunto de instruções e ***retornar um valor como saída.***"
      ],
      "metadata": {
        "id": "54sAW2P3Z5XG"
      }
    },
    {
      "cell_type": "markdown",
      "source": [
        "## Declaração de Função\n",
        "\n",
        "Uma função em Python é definida usando a palavra-chave def, seguida pelo nome da função e parênteses contendo os argumentos. A estrutura básica de uma declaração de função é a seguinte:\n",
        "\n",
        "```python\n",
        "\n",
        "def nome_da_funcao(argumentos):\n",
        "    # corpo da função\n",
        "    # instruções\n",
        "    return valor_de_retorno\n",
        "```\n",
        "\n",
        "  - `nome_da_funcao`: É o nome que identifica a função. Deve seguir as convenções de nomeação de variáveis em Python.\n",
        "  - `argumentos`: São os valores de entrada para a função. Podem ser opcionais ou obrigatórios.\n",
        "  - `corpo_da_função`: É onde o conjunto de instruções que a função executa é definido.\n",
        "  - `return`: É usado para especificar o valor que a função deve retornar quando for chamada. É opcional e pode ocorrer em várias partes da função."
      ],
      "metadata": {
        "id": "iQTSk7PIaFte"
      }
    },
    {
      "cell_type": "code",
      "source": [
        "def funcao_da_reta(m , x, n):\n",
        "  y =  x**2 - m * x + n\n",
        "\n",
        "  y += y + 2\n",
        "\n",
        "  y = y * x \n",
        "\n",
        "  return y"
      ],
      "metadata": {
        "id": "jzA0cbj51hox"
      },
      "execution_count": null,
      "outputs": []
    },
    {
      "cell_type": "markdown",
      "source": [
        "## Chamada de Função\n",
        "\n",
        "Uma vez que uma função tenha sido definida, ela pode ser chamada em qualquer parte do programa, fornecendo os argumentos necessários (se houver). A chamada de função segue a seguinte sintaxe:\n",
        "\n",
        "- nome_da_funcao(argumentos)\n",
        "\n",
        "***nome_da_funcao:*** É o nome da função que será chamada.\n",
        "\n",
        "***argumentos:*** São os valores que são passados para a função durante a chamada. Eles devem corresponder aos parâmetros definidos na declaração da função.\n",
        "\n",
        "\n",
        "Ao longo do curso utilizamos várias funções:\n",
        "\n",
        "- `print(argumento)`\n",
        "- `input(argumento)`\n",
        "- `int(argumento)`\n"
      ],
      "metadata": {
        "id": "ow9XnNFAa81B"
      }
    },
    {
      "cell_type": "code",
      "source": [
        "y1_recebeu = funcao_da_reta(6, 5, 1)\n",
        "y2_recebeu = funcao_da_reta(7, 2, 4)\n",
        "y3_recebeu = funcao_da_reta(5, 6, 7)\n",
        "\n",
        "print(f\"A funcao da reta é y= {y1_recebeu} {y2_recebeu} {y3_recebeu}\")"
      ],
      "metadata": {
        "colab": {
          "base_uri": "https://localhost:8080/"
        },
        "id": "41FWmrW7fv7P",
        "outputId": "12e718f4-ec1b-4db5-90ee-057636608d85"
      },
      "execution_count": null,
      "outputs": [
        {
          "output_type": "stream",
          "name": "stdout",
          "text": [
            "A funcao da reta é y= -30 -20 168\n"
          ]
        }
      ]
    },
    {
      "cell_type": "markdown",
      "source": [
        "### Retorno de Valores\n",
        "\n",
        "As funções podem retornar valores usando a instrução return. Um valor de retorno pode ser usado em expressões ou atribuído a uma variável. Se a instrução return não estiver presente em uma função, ela retornará implicitamente None.\n",
        "\n",
        "```python\n",
        "def somar(a, b):\n",
        "    return a + b\n",
        "\n",
        "resultado = somar(2, 3)\n",
        "print(resultado)  # Output: 5\n",
        "```"
      ],
      "metadata": {
        "id": "WY_NQkD8fwww"
      }
    },
    {
      "cell_type": "code",
      "source": [],
      "metadata": {
        "id": "sQpIVzK0pdjR"
      },
      "execution_count": null,
      "outputs": []
    },
    {
      "cell_type": "markdown",
      "source": [
        "Escopo de Variáveis\n",
        "\n",
        "O escopo de uma variável define onde a variável pode ser referenciada e usada. Em Python, existem dois tipos principais de escopo:\n",
        "\n",
        "> ***Escopo Global***: Variáveis definidas fora de qualquer função, que podem ser acessadas por qualquer parte do código.\n",
        "\n",
        "> ***Escopo Local***: Variáveis definidas dentro de uma função, que só podem ser acessadas dentro dessa função.\n",
        "\n",
        "```python\n",
        "\n",
        "def funcao():\n",
        "    x = 10  # Variável local\n",
        "    print(x)\n",
        "\n",
        "funcao()  # Output: 10\n",
        "print(x)  # Erro: NameError - x não está definido globalmente\n",
        "```"
      ],
      "metadata": {
        "id": "n7TXSzBcx4K2"
      }
    },
    {
      "cell_type": "code",
      "source": [
        "x = 56\n",
        "\n",
        "def funcao_A():\n",
        "  x = 2\n",
        "  return x \n",
        "\n",
        "def funcao_B():\n",
        "  x = 5\n",
        "  return x \n",
        "\n",
        "def funcao_C():\n",
        "  x = 6\n",
        "  return x \n",
        "\n",
        "print(x)"
      ],
      "metadata": {
        "colab": {
          "base_uri": "https://localhost:8080/"
        },
        "id": "op-kG38zx76k",
        "outputId": "10c72d96-40e8-4971-e1c0-bb9883199e01"
      },
      "execution_count": null,
      "outputs": [
        {
          "output_type": "stream",
          "name": "stdout",
          "text": [
            "56\n"
          ]
        }
      ]
    },
    {
      "cell_type": "markdown",
      "source": [
        "##Recursão\n",
        "\n",
        "Python suporta recursão, o que significa que uma função pode chamar a si mesma. A recursão é útil para resolver problemas que podem ser divididos em subproblemas menores.\n",
        "\n",
        "```python\n",
        "def fatorial(n):\n",
        "    if n == 0:\n",
        "        return 1\n",
        "    else:\n",
        "        return n * fatorial(n - 1)\n",
        "\n",
        "resultado = fatorial(5)\n",
        "print(resultado)  # Output: 120\n",
        "```"
      ],
      "metadata": {
        "id": "ZdPF3QCQm-Lc"
      }
    },
    {
      "cell_type": "code",
      "source": [
        "def fatorial(n):\n",
        "  if n == 0:\n",
        "    return 1\n",
        "  else:\n",
        "    print(f\"{n} * {n-1}!\")\n",
        "    return n * fatorial(n-1)\n",
        "\n",
        "print(fatorial(5))\n",
        "  "
      ],
      "metadata": {
        "colab": {
          "base_uri": "https://localhost:8080/"
        },
        "id": "PFQD1ED9Wq-M",
        "outputId": "883394eb-aa2c-4e42-e39c-61cb4f325b25"
      },
      "execution_count": null,
      "outputs": [
        {
          "output_type": "stream",
          "name": "stdout",
          "text": [
            "5 * 4!\n",
            "4 * 3!\n",
            "3 * 2!\n",
            "2 * 1!\n",
            "1 * 0!\n",
            "120\n"
          ]
        }
      ]
    }
  ]
}